{
 "cells": [
  {
   "cell_type": "code",
   "execution_count": 19,
   "metadata": {},
   "outputs": [
    {
     "data": {
      "text/plain": [
       "AIMessage(content='Langsmith can help with testing in the following ways:\\n\\n1. Providing automated testing tools: Langsmith can provide automated testing tools that can help streamline the testing process and identify bugs or issues in the software.\\n\\n2. Offering testing frameworks: Langsmith can provide testing frameworks that can help developers easily write and execute test cases for their software.\\n\\n3. Integrating with testing tools: Langsmith can integrate with popular testing tools such as Selenium, JUnit, and TestNG to provide developers with a comprehensive testing solution.\\n\\n4. Providing testing best practices: Langsmith can offer guidance and best practices for testing, helping developers ensure that their software is thoroughly tested and meets quality standards.\\n\\n5. Continuous integration and testing: Langsmith can help set up continuous integration and testing pipelines, allowing developers to automatically test their code and catch issues early in the development process.', additional_kwargs={'refusal': None}, response_metadata={'token_usage': {'completion_tokens': 169, 'prompt_tokens': 15, 'total_tokens': 184}, 'model_name': 'gpt-3.5-turbo-0125', 'system_fingerprint': None, 'finish_reason': 'stop', 'logprobs': None}, id='run-8dbdad9b-1abe-4d5a-b486-4cb18158ce2c-0', usage_metadata={'input_tokens': 15, 'output_tokens': 169, 'total_tokens': 184})"
      ]
     },
     "execution_count": 19,
     "metadata": {},
     "output_type": "execute_result"
    }
   ],
   "source": [
    "# Import modules\n",
    "import os\n",
    "from dotenv import load_dotenv\n",
    "\n",
    "from openai import OpenAI\n",
    "from langchain_openai import ChatOpenAI\n",
    "\n",
    "# Load .env\n",
    "load_dotenv()\n",
    "\n",
    "# Retrieve from .env\n",
    "ls_key=os.getenv('LANGSMITH_API_KEY')\n",
    "ai_key=os.getenv('OPENAI_KEY')\n",
    "\n",
    "#Test code to call OpenAI directly\n",
    "#client = OpenAI(\n",
    "#    api_key=ai_key\n",
    "#)\n",
    "\n",
    "#completion = client.chat.completions.create(\n",
    "#    model='gpt-4o-mini',\n",
    "#    messages=[\n",
    "#        {'role': 'system',\n",
    "#         'content': 'You are a helpful assistant'},\n",
    "#        {\n",
    "#            'role': 'user',\n",
    "#            'content': 'Write a haiku about recursion in programming'\n",
    "#        }\n",
    "#    ]\n",
    "#)\n",
    "\n",
    "#print(completion.choices[0].message)\n",
    "\n",
    "# Code to call OpenAI through LangChain\n",
    "# Instantiate LLM\n",
    "llm = ChatOpenAI(\n",
    "    api_key=ai_key,\n",
    "    max_retries=2,\n",
    ")\n",
    "\n",
    "llm.invoke(\"how can langsmith help with testing?\")"
   ]
  },
  {
   "cell_type": "code",
   "execution_count": null,
   "metadata": {},
   "outputs": [],
   "source": []
  }
 ],
 "metadata": {
  "kernelspec": {
   "display_name": "Python 3 (ipykernel)",
   "language": "python",
   "name": "python3"
  },
  "language_info": {
   "codemirror_mode": {
    "name": "ipython",
    "version": 3
   },
   "file_extension": ".py",
   "mimetype": "text/x-python",
   "name": "python",
   "nbconvert_exporter": "python",
   "pygments_lexer": "ipython3",
   "version": "3.12.5"
  }
 },
 "nbformat": 4,
 "nbformat_minor": 4
}
